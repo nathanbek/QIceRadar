{
 "cells": [
  {
   "cell_type": "code",
   "execution_count": null,
   "metadata": {},
   "outputs": [],
   "source": []
  },
  {
   "cell_type": "code",
   "execution_count": null,
   "metadata": {},
   "outputs": [],
   "source": []
  },
  {
   "cell_type": "code",
   "execution_count": null,
   "metadata": {},
   "outputs": [],
   "source": []
  },
  {
   "cell_type": "code",
   "execution_count": null,
   "metadata": {},
   "outputs": [],
   "source": []
  },
  {
   "cell_type": "code",
   "execution_count": 15,
   "metadata": {},
   "outputs": [
    {
     "name": "stdout",
     "output_type": "stream",
     "text": [
      "Layers in the GeoPackage:\n",
      "['AWI_1994_DML1', 'AWI_1995_DML2', 'AWI_1996_DML3', 'AWI_1997_DML4', 'AWI_1998_DML5', 'AWI_2000_DML6', 'AWI_2001_DML7', 'AWI_2002_DML8', 'AWI_2003_DML9', 'AWI_2004_DML10', 'AWI_2005_ANTSYSO', 'AWI_2007_ANTR', 'AWI_2013_GEA-IV', 'AWI_2014_Recovery-Glacier', 'AWI_2015_GEA-DML', 'AWI_2016_OIR', 'AWI_2018_ANIRES', 'AWI_2018_DML-Coast', 'AWI_2018_JURAS', 'AWI_2019_JURAS', 'BAS_1994_Evans', 'BAS_1998_Dufek', 'BAS_2001_Bailey-Slessor', 'BAS_2001_MAMOG', 'BAS_2002_TORUS', 'BAS_2007_Lake-Ellsworth', 'BAS_2007_Rutford', 'BAS_2007_TIGRIS', 'BAS_2008_Lake-Ellsworth', 'BAS_2009_FERRIGNO', 'BAS_2010_PIG', 'BAS_2011_Adelaide', 'BAS_2012_Castle', 'BAS_2013_ISTAR', 'BAS_2018_Thwaites', 'BAS_2019_Thwaites', 'BEDMAP1_BEDMAP1', 'BGR_1999_GANOVEX-VIII-Matusevich', 'BGR_1999_GANOVEX-VIII-Mertz', 'BGR_2002_PCMEGA', 'CECS_2006_Subglacial-Lake-CECs', 'INGV_1997_ITASE', 'INGV_1997_Talos-Dome', 'INGV_1999_Talos-Dome', 'INGV_2001_Talos-Dome', 'INGV_2003_Talos-Dome', 'KOPRI_2017_KRT1', 'KOPRI_2018_KRT2', 'LDEO_2007_Recovery-Lakes', 'LDEO_2015_ROSETTA', 'NASA_2002_ICEBRIDGE', 'NIPR_1992_JARE33', 'NIPR_1996_JARE37', 'NIPR_1999_JARE40', 'NIPR_2007_JARE49', 'NIPR_2007_JASE', 'NIPR_2012_JARE54', 'NIPR_2017_JARE59', 'NIPR_2018_JARE60', 'NPI_2008_BELISSIMA', 'NPI_2010_SRM', 'NPI_2012_ICERISES', 'NPI_2015_POLARGAP', 'NPI_2016_MADICE', 'PRIC_2004_CHINARE-21', 'PRIC_2007_CHINARE-24', 'PRIC_2015_CHA1', 'PRIC_2016_CHA2', 'PRIC_2017_CHA3', 'PRIC_2018_CHA4', 'RNRF_1971_Lambert-Amery', 'RNRF_1975_Filchner-Ronne', 'RNRF_1975_Lazarev', 'RNRF_2003_48RAEap5', 'RNRF_2003_AMSap5', 'RNRF_2004_49RAEap5', 'RNRF_2004_AMSap5', 'RNRF_2004_Mirny-Vostok', 'RNRF_2005_50RAEap5', 'RNRF_2005_AMSap5', 'RNRF_2006_51RAEap5', 'RNRF_2006_KV1-area', 'RNRF_2006_Komsom-Vostok', 'RNRF_2006_RAEap5', 'RNRF_2007_52RAEap5', 'RNRF_2007_AMSap5', 'RNRF_2007_Mirny-Vostok', 'RNRF_2008_53RAEap5', 'RNRF_2008_AMSap5', 'RNRF_2008_Vostok-Subglacial-Lake', 'RNRF_2009_RAEap5', 'RNRF_2010_RAE', 'RNRF_2011_RAE', 'RNRF_2013_RAE', 'RNRF_2013_Vostok-Progress', 'RNRF_2014_RAE', 'RNRF_2015_RAE', 'RNRF_2016_RAE', 'RNRF_2017_RAE', 'RNRF_2018_RAE', 'RNRF_2019_RAE', 'STOLAF_1994_Siple-Dome', 'STOLAF_2001_ITASE-Byrd-Ellsworth', 'STOLAF_2001_ITASE-Ellsworth', 'STOLAF_2002_ITASE-Byrd-South-Pole', 'STOLAF_2002_ITASE-Hercules-Dome', 'UCANTERBURY_2008_Darwin-Hatherton', 'ULB_2012_BEWISE', 'ULB_2012_ICECON', 'UTIG_1991_CASERTZ', 'UTIG_1998_West-Marie-Byrd-Land', 'UTIG_1999_SOAR-LVS-WLK', 'UTIG_2000_Robb-Glacier', 'UTIG_2008_ICECAP', 'UTIG_2009_Darwin-Hatherton', 'UTIG_2010_ICECAP', 'UTIG_2013_GIMBLE', 'UWASHINGTON_2018_South-Pole-Lake', 'AGAP', 'BBAS', 'FISS2015', 'FISS2016', 'GRADES_IMAGE', 'ICEGRAV', 'IMAFI', 'ITGC_2019', 'POLARGAP', 'WISE_ISODYN', '2002_Antarctica_P3chile', '2004_Antarctica_P3chile', '2005_Antarctica_GPRWAIS', '2009_Antarctica_DC8', '2009_Antarctica_TO', '2009_Antarctica_TO_Gambit', '2010_Antarctica_DC8', '2011_Antarctica_DC8', '2011_Antarctica_TO', '2012_Antarctica_DC8', '2013_Antarctica_Basler', '2013_Antarctica_P3', '2014_Antarctica_DC8', '2016_Antarctica_DC8', '2017_Antarctica_Basler', '2017_Antarctica_P3', '2018_Antarctica_DC8', '2018_Antarctica_Ground', '2019_Antarctica_GV', 'KRT1', 'AGAP_GAMBIT', 'AGASEA', 'DVD', 'EAGLE', 'ICECAP', 'LIV', 'OIA', 'STI', 'TAM', 'WAG', 'BAS_1969_1970', 'BAS_1971_1972', 'BAS_1974_1975', 'BAS_1980_1981', 'BAS_1982_1983', 'BAS_1983_1984', 'BAS_1984_1985', 'BAS_1985_1986', 'BAS_1987_1988', 'STANFORD_SPRI_NSF_TUD', 'institutions', 'data_formats', 'download_methods', 'campaigns', 'granules']\n"
     ]
    },
    {
     "ename": "KeyboardInterrupt",
     "evalue": "",
     "output_type": "error",
     "traceback": [
      "\u001b[0;31m---------------------------------------------------------------------------\u001b[0m",
      "\u001b[0;31mKeyboardInterrupt\u001b[0m                         Traceback (most recent call last)",
      "Cell \u001b[0;32mIn[15], line 34\u001b[0m\n\u001b[1;32m     32\u001b[0m \u001b[38;5;28;01mfor\u001b[39;00m layer \u001b[38;5;129;01min\u001b[39;00m layers:\n\u001b[1;32m     33\u001b[0m     \u001b[38;5;28;01mtry\u001b[39;00m:\n\u001b[0;32m---> 34\u001b[0m         gdf_head \u001b[38;5;241m=\u001b[39m gpd\u001b[38;5;241m.\u001b[39mread_file(input_file_path, layer\u001b[38;5;241m=\u001b[39mlayer, rows\u001b[38;5;241m=\u001b[39m\u001b[38;5;241m10\u001b[39m)  \u001b[38;5;66;03m# Read first 10 rows\u001b[39;00m\n\u001b[1;32m     35\u001b[0m         gdf_tail \u001b[38;5;241m=\u001b[39m gpd\u001b[38;5;241m.\u001b[39mread_file(input_file_path, layer\u001b[38;5;241m=\u001b[39mlayer, skiprows\u001b[38;5;241m=\u001b[39m\u001b[38;5;28;01mlambda\u001b[39;00m x: x \u001b[38;5;241m<\u001b[39m (gdf_head\u001b[38;5;241m.\u001b[39mshape[\u001b[38;5;241m0\u001b[39m] \u001b[38;5;241m-\u001b[39m \u001b[38;5;241m10\u001b[39m))  \u001b[38;5;66;03m# Read last 10 rows\u001b[39;00m\n\u001b[1;32m     36\u001b[0m         \u001b[38;5;28;01mif\u001b[39;00m \u001b[38;5;124m'\u001b[39m\u001b[38;5;124minstitution\u001b[39m\u001b[38;5;124m'\u001b[39m \u001b[38;5;129;01min\u001b[39;00m gdf_head\u001b[38;5;241m.\u001b[39mcolumns:\n",
      "File \u001b[0;32m/opt/anaconda3/lib/python3.11/site-packages/geopandas/io/file.py:289\u001b[0m, in \u001b[0;36m_read_file\u001b[0;34m(filename, bbox, mask, rows, engine, **kwargs)\u001b[0m\n\u001b[1;32m    286\u001b[0m     \u001b[38;5;28;01melse\u001b[39;00m:\n\u001b[1;32m    287\u001b[0m         path_or_bytes \u001b[38;5;241m=\u001b[39m filename\n\u001b[0;32m--> 289\u001b[0m     \u001b[38;5;28;01mreturn\u001b[39;00m _read_file_fiona(\n\u001b[1;32m    290\u001b[0m         path_or_bytes, from_bytes, bbox\u001b[38;5;241m=\u001b[39mbbox, mask\u001b[38;5;241m=\u001b[39mmask, rows\u001b[38;5;241m=\u001b[39mrows, \u001b[38;5;241m*\u001b[39m\u001b[38;5;241m*\u001b[39mkwargs\n\u001b[1;32m    291\u001b[0m     )\n\u001b[1;32m    293\u001b[0m \u001b[38;5;28;01melse\u001b[39;00m:\n\u001b[1;32m    294\u001b[0m     \u001b[38;5;28;01mraise\u001b[39;00m \u001b[38;5;167;01mValueError\u001b[39;00m(\u001b[38;5;124mf\u001b[39m\u001b[38;5;124m\"\u001b[39m\u001b[38;5;124munknown engine \u001b[39m\u001b[38;5;124m'\u001b[39m\u001b[38;5;132;01m{\u001b[39;00mengine\u001b[38;5;132;01m}\u001b[39;00m\u001b[38;5;124m'\u001b[39m\u001b[38;5;124m\"\u001b[39m)\n",
      "File \u001b[0;32m/opt/anaconda3/lib/python3.11/site-packages/geopandas/io/file.py:372\u001b[0m, in \u001b[0;36m_read_file_fiona\u001b[0;34m(path_or_bytes, from_bytes, bbox, mask, rows, where, **kwargs)\u001b[0m\n\u001b[1;32m    368\u001b[0m     df \u001b[38;5;241m=\u001b[39m pd\u001b[38;5;241m.\u001b[39mDataFrame(\n\u001b[1;32m    369\u001b[0m         [record[\u001b[38;5;124m\"\u001b[39m\u001b[38;5;124mproperties\u001b[39m\u001b[38;5;124m\"\u001b[39m] \u001b[38;5;28;01mfor\u001b[39;00m record \u001b[38;5;129;01min\u001b[39;00m f_filt], columns\u001b[38;5;241m=\u001b[39mcolumns\n\u001b[1;32m    370\u001b[0m     )\n\u001b[1;32m    371\u001b[0m \u001b[38;5;28;01melse\u001b[39;00m:\n\u001b[0;32m--> 372\u001b[0m     df \u001b[38;5;241m=\u001b[39m GeoDataFrame\u001b[38;5;241m.\u001b[39mfrom_features(\n\u001b[1;32m    373\u001b[0m         f_filt, crs\u001b[38;5;241m=\u001b[39mcrs, columns\u001b[38;5;241m=\u001b[39mcolumns \u001b[38;5;241m+\u001b[39m [\u001b[38;5;124m\"\u001b[39m\u001b[38;5;124mgeometry\u001b[39m\u001b[38;5;124m\"\u001b[39m]\n\u001b[1;32m    374\u001b[0m     )\n\u001b[1;32m    375\u001b[0m \u001b[38;5;28;01mfor\u001b[39;00m k \u001b[38;5;129;01min\u001b[39;00m datetime_fields:\n\u001b[1;32m    376\u001b[0m     as_dt \u001b[38;5;241m=\u001b[39m \u001b[38;5;28;01mNone\u001b[39;00m\n",
      "File \u001b[0;32m/opt/anaconda3/lib/python3.11/site-packages/geopandas/geodataframe.py:639\u001b[0m, in \u001b[0;36mGeoDataFrame.from_features\u001b[0;34m(cls, features, crs, columns)\u001b[0m\n\u001b[1;32m    636\u001b[0m     features_lst \u001b[38;5;241m=\u001b[39m features\n\u001b[1;32m    638\u001b[0m rows \u001b[38;5;241m=\u001b[39m []\n\u001b[0;32m--> 639\u001b[0m \u001b[38;5;28;01mfor\u001b[39;00m feature \u001b[38;5;129;01min\u001b[39;00m features_lst:\n\u001b[1;32m    640\u001b[0m     \u001b[38;5;66;03m# load geometry\u001b[39;00m\n\u001b[1;32m    641\u001b[0m     \u001b[38;5;28;01mif\u001b[39;00m \u001b[38;5;28mhasattr\u001b[39m(feature, \u001b[38;5;124m\"\u001b[39m\u001b[38;5;124m__geo_interface__\u001b[39m\u001b[38;5;124m\"\u001b[39m):\n\u001b[1;32m    642\u001b[0m         feature \u001b[38;5;241m=\u001b[39m feature\u001b[38;5;241m.\u001b[39m__geo_interface__\n",
      "File \u001b[0;32mfiona/ogrext.pyx:1739\u001b[0m, in \u001b[0;36mfiona.ogrext.Iterator.__next__\u001b[0;34m()\u001b[0m\n",
      "File \u001b[0;32mfiona/ogrext.pyx:389\u001b[0m, in \u001b[0;36mfiona.ogrext.FeatureBuilder.build\u001b[0;34m()\u001b[0m\n",
      "File \u001b[0;32mfiona/_geometry.pyx:197\u001b[0m, in \u001b[0;36mfiona._geometry.GeomBuilder.build_from_feature\u001b[0;34m()\u001b[0m\n",
      "File \u001b[0;32mfiona/_geometry.pyx:249\u001b[0m, in \u001b[0;36mfiona._geometry.GeomBuilder.build\u001b[0;34m()\u001b[0m\n",
      "File \u001b[0;32mfiona/_geometry.pyx:165\u001b[0m, in \u001b[0;36mfiona._geometry.GeomBuilder._buildMultiPoint\u001b[0;34m()\u001b[0m\n",
      "File \u001b[0;32mfiona/_geometry.pyx:156\u001b[0m, in \u001b[0;36mfiona._geometry.GeomBuilder._buildParts\u001b[0;34m()\u001b[0m\n",
      "File \u001b[0;32mfiona/_geometry.pyx:263\u001b[0m, in \u001b[0;36mfiona._geometry.GeomBuilder.build\u001b[0;34m()\u001b[0m\n",
      "File \u001b[0;32m/opt/anaconda3/lib/python3.11/site-packages/fiona/model.py:201\u001b[0m, in \u001b[0;36mGeometry.from_dict\u001b[0;34m(cls, ob, **kwargs)\u001b[0m\n\u001b[1;32m    196\u001b[0m     \u001b[38;5;28mself\u001b[39m\u001b[38;5;241m.\u001b[39m_delegate \u001b[38;5;241m=\u001b[39m _Geometry(\n\u001b[1;32m    197\u001b[0m         coordinates\u001b[38;5;241m=\u001b[39mcoordinates, \u001b[38;5;28mtype\u001b[39m\u001b[38;5;241m=\u001b[39m\u001b[38;5;28mtype\u001b[39m, geometries\u001b[38;5;241m=\u001b[39mgeometries\n\u001b[1;32m    198\u001b[0m     )\n\u001b[1;32m    199\u001b[0m     \u001b[38;5;28msuper\u001b[39m()\u001b[38;5;241m.\u001b[39m\u001b[38;5;21m__init__\u001b[39m(\u001b[38;5;241m*\u001b[39m\u001b[38;5;241m*\u001b[39mdata)\n\u001b[0;32m--> 201\u001b[0m \u001b[38;5;129m@classmethod\u001b[39m\n\u001b[1;32m    202\u001b[0m \u001b[38;5;28;01mdef\u001b[39;00m \u001b[38;5;21mfrom_dict\u001b[39m(\u001b[38;5;28mcls\u001b[39m, ob\u001b[38;5;241m=\u001b[39m\u001b[38;5;28;01mNone\u001b[39;00m, \u001b[38;5;241m*\u001b[39m\u001b[38;5;241m*\u001b[39mkwargs):\n\u001b[1;32m    203\u001b[0m     \u001b[38;5;28;01mif\u001b[39;00m ob \u001b[38;5;129;01mis\u001b[39;00m \u001b[38;5;129;01mnot\u001b[39;00m \u001b[38;5;28;01mNone\u001b[39;00m:\n\u001b[1;32m    204\u001b[0m         data \u001b[38;5;241m=\u001b[39m \u001b[38;5;28mdict\u001b[39m(\u001b[38;5;28mgetattr\u001b[39m(ob, \u001b[38;5;124m\"\u001b[39m\u001b[38;5;124m__geo_interface__\u001b[39m\u001b[38;5;124m\"\u001b[39m, ob))\n",
      "\u001b[0;31mKeyboardInterrupt\u001b[0m: "
     ]
    }
   ],
   "source": [
    "import geopandas as gpd\n",
    "import matplotlib.pyplot as plt\n",
    "import pandas as pd\n",
    "import os\n",
    "\n",
    "# Define the paths\n",
    "input_file_path = \"./antarctic_index.gpkg\"\n",
    "map_path = \"/Users/nathanbekele/Downloads/Quantarctica3/Miscellaneous/SimpleBasemap/ADD_DerivedLowresBasemap.shp\"\n",
    "output_folder = \"./data3\"\n",
    "\n",
    "# Ensure the output folder exists\n",
    "os.makedirs(output_folder, exist_ok=True)\n",
    "\n",
    "# List all layers in the GeoPackage\n",
    "try:\n",
    "    layers = gpd.io.file.fiona.listlayers(input_file_path)\n",
    "    if layers is None:\n",
    "        raise ValueError(\"No layers found in the GeoPackage.\")\n",
    "    print(\"Layers in the GeoPackage:\")\n",
    "    print(layers)\n",
    "except Exception as e:\n",
    "    print(f\"Error listing layers in the GeoPackage: {e}\")\n",
    "    layers = []\n",
    "\n",
    "if not layers:\n",
    "    print(\"No layers found or error in listing layers. Exiting.\")\n",
    "else:\n",
    "    # Create a dictionary to map institutions to layers\n",
    "    institution_layers = {}\n",
    "\n",
    "    # Populate the dictionary\n",
    "    for layer in layers:\n",
    "        try:\n",
    "            gdf_head = gpd.read_file(input_file_path, layer=layer, rows=10)  # Read first 10 rows\n",
    "            gdf_tail = gpd.read_file(input_file_path, layer=layer, skiprows=lambda x: x < (gdf_head.shape[0] - 10))  # Read last 10 rows\n",
    "            if 'institution' in gdf_head.columns:\n",
    "                institutions = set(gdf_head['institution'].unique()).union(set(gdf_tail['institution'].unique()))\n",
    "                for institution in institutions:\n",
    "                    if institution is not None:\n",
    "                        if institution not in institution_layers:\n",
    "                            institution_layers[institution] = []\n",
    "                        institution_layers[institution].append(layer)\n",
    "        except Exception as e:\n",
    "            print(f\"Error reading layer {layer}: {e}\")\n",
    "\n",
    "    print(\"Institution layers mapping:\")\n",
    "    print(institution_layers)\n",
    "\n",
    "    # Read the basemap shapefile\n",
    "    basemap = gpd.read_file(map_path)\n",
    "\n",
    "    # Function to plot data on the basemap with color-coding based on availability\n",
    "    def plot_data_on_basemap(basemap, gdf, institution):\n",
    "        fig, ax = plt.subplots(figsize=(10, 10))\n",
    "\n",
    "        # Set background color to light blue\n",
    "        fig.patch.set_facecolor('white')\n",
    "        ax.set_facecolor('white')\n",
    "        \n",
    "        # Plot basemap with Antarctica as white\n",
    "        basemap.plot(ax=ax, color='white', edgecolor='black')\n",
    "        \n",
    "        # Define colors based on availability\n",
    "        colors = {'u': 'red', 's': 'darkblue', '': 'darkgrey'}\n",
    "        labels = {'u': 'Unavailable', 's': 'Available', '': 'Dark Grey'}\n",
    "        \n",
    "        # Plot the data for the institution\n",
    "        if not gdf.empty:\n",
    "            for availability in gdf['availability'].unique():\n",
    "                subset = gdf[gdf['availability'] == availability]\n",
    "                color = colors.get(availability, 'darkgrey')\n",
    "                subset.plot(ax=ax, color=color, markersize=0.5, linewidth=0.5, label=f\"{labels.get(availability, 'Dark Grey')}\")\n",
    "        else:\n",
    "            print(\"GeoDataFrame is empty, nothing to plot.\")\n",
    "\n",
    "        # Set limits to zoom in on Antarctica\n",
    "        ax.set_xlim(-3e6, 3e6)\n",
    "        ax.set_ylim(-3e6, 3e6)\n",
    "        \n",
    "        # Add axis labels for coordinates\n",
    "        ax.set_xlabel('Longitude')\n",
    "        ax.set_ylabel('Latitude')\n",
    "        \n",
    "        plt.title(f'Antarctica Basemap with {institution} Data Overlay')\n",
    "        plt.legend()\n",
    "        \n",
    "        # Save the plot to the data folder\n",
    "        output_path = os.path.join(output_folder, f'Antarctica_coverage_{institution}.png')\n",
    "        plt.savefig(output_path)\n",
    "        plt.close(fig)\n",
    "        print(f\"Saved map for {institution} to {output_path}\")\n",
    "\n",
    "    # Iterate through each institution and create maps\n",
    "    for institution, layers in institution_layers.items():\n",
    "        institution_data = []\n",
    "\n",
    "        print(f\"\\nProcessing institution: {institution}\")\n",
    "        \n",
    "        for layer in layers:\n",
    "            print(f\"Checking layer: {layer}\")\n",
    "            try:\n",
    "                gdf = gpd.read_file(input_file_path, layer=layer)  # Read the full layer\n",
    "                \n",
    "                if 'institution' in gdf.columns and institution in gdf['institution'].unique():\n",
    "                    print(f\"Layer '{layer}' contains '{institution}'.\")\n",
    "                    institution_data.append(gdf[gdf['institution'] == institution])\n",
    "                else:\n",
    "                    print(f\"Layer '{layer}' does not contain '{institution}' or does not have 'institution' column.\")\n",
    "            except Exception as e:\n",
    "                print(f\"Error processing layer {layer}: {e}\")\n",
    "\n",
    "        # Combine all dataframes for the institution\n",
    "        if institution_data:\n",
    "            institution_gdf = gpd.GeoDataFrame(pd.concat(institution_data, ignore_index=True))\n",
    "        else:\n",
    "            institution_gdf = gpd.GeoDataFrame()\n",
    "\n",
    "        # Ensure the CRS matches between the basemap and the GeoDataFrame\n",
    "        if not institution_gdf.empty:\n",
    "            institution_gdf = institution_gdf.to_crs(basemap.crs)\n",
    "\n",
    "        # Plot and save the aggregated data for the institution\n",
    "        plot_data_on_basemap(basemap, institution_gdf, institution)\n",
    "\n",
    "    print(\"All maps have been created and saved to the data3 folder.\")\n"
   ]
  },
  {
   "cell_type": "code",
   "execution_count": 16,
   "metadata": {},
   "outputs": [
    {
     "ename": "AttributeError",
     "evalue": "'str' object has no attribute 'shape'",
     "output_type": "error",
     "traceback": [
      "\u001b[0;31m---------------------------------------------------------------------------\u001b[0m",
      "\u001b[0;31mAttributeError\u001b[0m                            Traceback (most recent call last)",
      "Cell \u001b[0;32mIn[16], line 1\u001b[0m\n\u001b[0;32m----> 1\u001b[0m map_path\u001b[38;5;241m.\u001b[39mshape()\n",
      "\u001b[0;31mAttributeError\u001b[0m: 'str' object has no attribute 'shape'"
     ]
    }
   ],
   "source": [
    "map_path.shape"
   ]
  },
  {
   "cell_type": "code",
   "execution_count": null,
   "metadata": {},
   "outputs": [],
   "source": []
  },
  {
   "cell_type": "code",
   "execution_count": null,
   "metadata": {},
   "outputs": [],
   "source": []
  },
  {
   "cell_type": "code",
   "execution_count": null,
   "metadata": {},
   "outputs": [],
   "source": []
  }
 ],
 "metadata": {
  "kernelspec": {
   "display_name": "Python 3 (ipykernel)",
   "language": "python",
   "name": "python3"
  },
  "language_info": {
   "codemirror_mode": {
    "name": "ipython",
    "version": 3
   },
   "file_extension": ".py",
   "mimetype": "text/x-python",
   "name": "python",
   "nbconvert_exporter": "python",
   "pygments_lexer": "ipython3",
   "version": "3.11.7"
  }
 },
 "nbformat": 4,
 "nbformat_minor": 4
}
